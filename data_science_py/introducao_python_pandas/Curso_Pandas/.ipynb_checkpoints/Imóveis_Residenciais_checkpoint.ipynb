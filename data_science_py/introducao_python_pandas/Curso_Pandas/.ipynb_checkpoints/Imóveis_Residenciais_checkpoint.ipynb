{
 "cells": [
  {
   "cell_type": "markdown",
   "id": "flying-norfolk",
   "metadata": {},
   "source": [
    "# Relatório de Análise III"
   ]
  },
  {
   "cell_type": "markdown",
   "id": "vital-skirt",
   "metadata": {},
   "source": [
    "## Imóveis Residenciais"
   ]
  },
  {
   "cell_type": "code",
   "execution_count": 2,
   "id": "elder-training",
   "metadata": {},
   "outputs": [],
   "source": [
    "import pandas as pd"
   ]
  },
  {
   "cell_type": "code",
   "execution_count": 4,
   "id": "elder-acrylic",
   "metadata": {},
   "outputs": [],
   "source": [
    "dados = pd.read_csv('dados/aluguel.csv', sep = ';')"
   ]
  },
  {
   "cell_type": "code",
   "execution_count": null,
   "id": "configured-basis",
   "metadata": {},
   "outputs": [],
   "source": []
  }
 ],
 "metadata": {
  "kernelspec": {
   "display_name": "Python 3",
   "language": "python",
   "name": "python3"
  },
  "language_info": {
   "codemirror_mode": {
    "name": "ipython",
    "version": 3
   },
   "file_extension": ".py",
   "mimetype": "text/x-python",
   "name": "python",
   "nbconvert_exporter": "python",
   "pygments_lexer": "ipython3",
   "version": "3.7.10"
  }
 },
 "nbformat": 4,
 "nbformat_minor": 5
}
